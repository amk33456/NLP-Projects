{
 "cells": [
  {
   "cell_type": "code",
   "execution_count": 1,
   "id": "28af1588",
   "metadata": {},
   "outputs": [],
   "source": [
    "import pandas as pd\n",
    "import nltk"
   ]
  },
  {
   "cell_type": "code",
   "execution_count": 2,
   "id": "ede5d09f",
   "metadata": {},
   "outputs": [],
   "source": [
    "df = pd.read_csv('amazon_product.csv')"
   ]
  },
  {
   "cell_type": "code",
   "execution_count": 3,
   "id": "5bf1b866",
   "metadata": {},
   "outputs": [
    {
     "data": {
      "text/html": [
       "<div>\n",
       "<style scoped>\n",
       "    .dataframe tbody tr th:only-of-type {\n",
       "        vertical-align: middle;\n",
       "    }\n",
       "\n",
       "    .dataframe tbody tr th {\n",
       "        vertical-align: top;\n",
       "    }\n",
       "\n",
       "    .dataframe thead th {\n",
       "        text-align: right;\n",
       "    }\n",
       "</style>\n",
       "<table border=\"1\" class=\"dataframe\">\n",
       "  <thead>\n",
       "    <tr style=\"text-align: right;\">\n",
       "      <th></th>\n",
       "      <th>id</th>\n",
       "      <th>Title</th>\n",
       "      <th>Description</th>\n",
       "      <th>Category</th>\n",
       "    </tr>\n",
       "  </thead>\n",
       "  <tbody>\n",
       "    <tr>\n",
       "      <th>0</th>\n",
       "      <td>1</td>\n",
       "      <td>Swissmar Capstore Select Storage Rack for 18-...</td>\n",
       "      <td>Swissmar's capstore select 18 storage unit kee...</td>\n",
       "      <td>Home &amp; Kitchen Kitchen &amp; Dining Kitchen Utens...</td>\n",
       "    </tr>\n",
       "    <tr>\n",
       "      <th>1</th>\n",
       "      <td>2</td>\n",
       "      <td>Gemini200 Delta CV-880 Gold Crown Livery Airc...</td>\n",
       "      <td>Welcome to the exciting world of GeminiJets! O...</td>\n",
       "      <td>Toys &amp; Games Hobbies Models &amp; Model Kits Pre-...</td>\n",
       "    </tr>\n",
       "    <tr>\n",
       "      <th>2</th>\n",
       "      <td>5</td>\n",
       "      <td>Superior Threads 10501-2172 Magnifico Cream P...</td>\n",
       "      <td>For quilting and embroidery, this product is m...</td>\n",
       "      <td>Arts, Crafts &amp; Sewing Sewing Thread &amp; Floss S...</td>\n",
       "    </tr>\n",
       "    <tr>\n",
       "      <th>3</th>\n",
       "      <td>6</td>\n",
       "      <td>Fashion Angels Color Rox Hair Chox Kit</td>\n",
       "      <td>Experiment with the haute trend of hair chalki...</td>\n",
       "      <td>Beauty &amp; Personal Care Hair Care Hair Colorin...</td>\n",
       "    </tr>\n",
       "    <tr>\n",
       "      <th>4</th>\n",
       "      <td>8</td>\n",
       "      <td>Union Creative Giant Killing Figure 05: Daisu...</td>\n",
       "      <td>From Union Creative. Turn your display shelf i...</td>\n",
       "      <td>Toys &amp; Games › Action Figures &amp; Statues › Sta...</td>\n",
       "    </tr>\n",
       "  </tbody>\n",
       "</table>\n",
       "</div>"
      ],
      "text/plain": [
       "   id                                              Title  \\\n",
       "0   1   Swissmar Capstore Select Storage Rack for 18-...   \n",
       "1   2   Gemini200 Delta CV-880 Gold Crown Livery Airc...   \n",
       "2   5   Superior Threads 10501-2172 Magnifico Cream P...   \n",
       "3   6            Fashion Angels Color Rox Hair Chox Kit    \n",
       "4   8   Union Creative Giant Killing Figure 05: Daisu...   \n",
       "\n",
       "                                         Description  \\\n",
       "0  Swissmar's capstore select 18 storage unit kee...   \n",
       "1  Welcome to the exciting world of GeminiJets! O...   \n",
       "2  For quilting and embroidery, this product is m...   \n",
       "3  Experiment with the haute trend of hair chalki...   \n",
       "4  From Union Creative. Turn your display shelf i...   \n",
       "\n",
       "                                            Category  \n",
       "0   Home & Kitchen Kitchen & Dining Kitchen Utens...  \n",
       "1   Toys & Games Hobbies Models & Model Kits Pre-...  \n",
       "2   Arts, Crafts & Sewing Sewing Thread & Floss S...  \n",
       "3   Beauty & Personal Care Hair Care Hair Colorin...  \n",
       "4   Toys & Games › Action Figures & Statues › Sta...  "
      ]
     },
     "execution_count": 3,
     "metadata": {},
     "output_type": "execute_result"
    }
   ],
   "source": [
    "df.head()"
   ]
  },
  {
   "cell_type": "code",
   "execution_count": 4,
   "id": "450e0a87",
   "metadata": {},
   "outputs": [],
   "source": [
    "df.drop('id',axis=1,inplace=True)"
   ]
  },
  {
   "cell_type": "code",
   "execution_count": 5,
   "id": "ca6e496c",
   "metadata": {
    "scrolled": true
   },
   "outputs": [
    {
     "data": {
      "text/html": [
       "<div>\n",
       "<style scoped>\n",
       "    .dataframe tbody tr th:only-of-type {\n",
       "        vertical-align: middle;\n",
       "    }\n",
       "\n",
       "    .dataframe tbody tr th {\n",
       "        vertical-align: top;\n",
       "    }\n",
       "\n",
       "    .dataframe thead th {\n",
       "        text-align: right;\n",
       "    }\n",
       "</style>\n",
       "<table border=\"1\" class=\"dataframe\">\n",
       "  <thead>\n",
       "    <tr style=\"text-align: right;\">\n",
       "      <th></th>\n",
       "      <th>Title</th>\n",
       "      <th>Description</th>\n",
       "      <th>Category</th>\n",
       "    </tr>\n",
       "  </thead>\n",
       "  <tbody>\n",
       "    <tr>\n",
       "      <th>0</th>\n",
       "      <td>Swissmar Capstore Select Storage Rack for 18-...</td>\n",
       "      <td>Swissmar's capstore select 18 storage unit kee...</td>\n",
       "      <td>Home &amp; Kitchen Kitchen &amp; Dining Kitchen Utens...</td>\n",
       "    </tr>\n",
       "    <tr>\n",
       "      <th>1</th>\n",
       "      <td>Gemini200 Delta CV-880 Gold Crown Livery Airc...</td>\n",
       "      <td>Welcome to the exciting world of GeminiJets! O...</td>\n",
       "      <td>Toys &amp; Games Hobbies Models &amp; Model Kits Pre-...</td>\n",
       "    </tr>\n",
       "    <tr>\n",
       "      <th>2</th>\n",
       "      <td>Superior Threads 10501-2172 Magnifico Cream P...</td>\n",
       "      <td>For quilting and embroidery, this product is m...</td>\n",
       "      <td>Arts, Crafts &amp; Sewing Sewing Thread &amp; Floss S...</td>\n",
       "    </tr>\n",
       "    <tr>\n",
       "      <th>3</th>\n",
       "      <td>Fashion Angels Color Rox Hair Chox Kit</td>\n",
       "      <td>Experiment with the haute trend of hair chalki...</td>\n",
       "      <td>Beauty &amp; Personal Care Hair Care Hair Colorin...</td>\n",
       "    </tr>\n",
       "    <tr>\n",
       "      <th>4</th>\n",
       "      <td>Union Creative Giant Killing Figure 05: Daisu...</td>\n",
       "      <td>From Union Creative. Turn your display shelf i...</td>\n",
       "      <td>Toys &amp; Games › Action Figures &amp; Statues › Sta...</td>\n",
       "    </tr>\n",
       "  </tbody>\n",
       "</table>\n",
       "</div>"
      ],
      "text/plain": [
       "                                               Title  \\\n",
       "0   Swissmar Capstore Select Storage Rack for 18-...   \n",
       "1   Gemini200 Delta CV-880 Gold Crown Livery Airc...   \n",
       "2   Superior Threads 10501-2172 Magnifico Cream P...   \n",
       "3            Fashion Angels Color Rox Hair Chox Kit    \n",
       "4   Union Creative Giant Killing Figure 05: Daisu...   \n",
       "\n",
       "                                         Description  \\\n",
       "0  Swissmar's capstore select 18 storage unit kee...   \n",
       "1  Welcome to the exciting world of GeminiJets! O...   \n",
       "2  For quilting and embroidery, this product is m...   \n",
       "3  Experiment with the haute trend of hair chalki...   \n",
       "4  From Union Creative. Turn your display shelf i...   \n",
       "\n",
       "                                            Category  \n",
       "0   Home & Kitchen Kitchen & Dining Kitchen Utens...  \n",
       "1   Toys & Games Hobbies Models & Model Kits Pre-...  \n",
       "2   Arts, Crafts & Sewing Sewing Thread & Floss S...  \n",
       "3   Beauty & Personal Care Hair Care Hair Colorin...  \n",
       "4   Toys & Games › Action Figures & Statues › Sta...  "
      ]
     },
     "execution_count": 5,
     "metadata": {},
     "output_type": "execute_result"
    }
   ],
   "source": [
    "df.head()"
   ]
  },
  {
   "cell_type": "code",
   "execution_count": 6,
   "id": "a4dc9754",
   "metadata": {},
   "outputs": [
    {
     "data": {
      "text/plain": [
       "(668, 3)"
      ]
     },
     "execution_count": 6,
     "metadata": {},
     "output_type": "execute_result"
    }
   ],
   "source": [
    "df.shape"
   ]
  },
  {
   "cell_type": "code",
   "execution_count": 7,
   "id": "afd37a94",
   "metadata": {},
   "outputs": [
    {
     "data": {
      "text/plain": [
       " Toys & Games Games Board Games                                                            7\n",
       " Arts, Crafts & Sewing › Crafting › Paper & Paper Crafts › Paper › Card Stock              5\n",
       " Appliances › Parts & Accessories › Cooktop Parts & Accessories                            4\n",
       " Baby Products Diapering Disposable Diapers                                                4\n",
       " Beauty & Personal Care Foot, Hand & Nail Care Nail Art & Polish Nail Polish               4\n",
       "                                                                                          ..\n",
       " Arts, Crafts & Sewing Crafting Paper & Paper Crafts Embossing Embossing Folders           1\n",
       " Toys & Games Dress Up & Pretend Play Beauty & Fashion Makeup                              1\n",
       " Clothing, Shoes & Jewelry › Baby › Baby Girls › Clothing › Clothing Sets › Short Sets     1\n",
       " Health & Household › Vitamins & Dietary Supplements › Vitamins › Vitamin D                1\n",
       "Car Accessories                                                                            1\n",
       "Name: Category, Length: 554, dtype: int64"
      ]
     },
     "execution_count": 7,
     "metadata": {},
     "output_type": "execute_result"
    }
   ],
   "source": [
    "df['Category'].value_counts()"
   ]
  },
  {
   "cell_type": "code",
   "execution_count": 8,
   "id": "89e45538",
   "metadata": {},
   "outputs": [
    {
     "data": {
      "text/plain": [
       "Title          0\n",
       "Description    0\n",
       "Category       0\n",
       "dtype: int64"
      ]
     },
     "execution_count": 8,
     "metadata": {},
     "output_type": "execute_result"
    }
   ],
   "source": [
    "df.isnull().sum()"
   ]
  },
  {
   "cell_type": "code",
   "execution_count": 9,
   "id": "780bb1cf",
   "metadata": {},
   "outputs": [],
   "source": [
    "from nltk.stem.snowball import SnowballStemmer\n",
    "stemmer = SnowballStemmer('english')\n",
    "\n",
    "def tokenize_stem(text):\n",
    "    tokens = nltk.word_tokenize(text.lower())\n",
    "    stemmed = [stemmer.stem(w) for w in tokens]\n",
    "    return ' '.join(stemmed)"
   ]
  },
  {
   "cell_type": "code",
   "execution_count": 10,
   "id": "34330578",
   "metadata": {},
   "outputs": [],
   "source": [
    "df['stemmed_tokenize'] = df.apply(lambda row:tokenize_stem(row['Title'] +\" \"+ row['Description']),axis=1)"
   ]
  },
  {
   "cell_type": "code",
   "execution_count": 11,
   "id": "8cb9cb92",
   "metadata": {},
   "outputs": [
    {
     "data": {
      "text/html": [
       "<div>\n",
       "<style scoped>\n",
       "    .dataframe tbody tr th:only-of-type {\n",
       "        vertical-align: middle;\n",
       "    }\n",
       "\n",
       "    .dataframe tbody tr th {\n",
       "        vertical-align: top;\n",
       "    }\n",
       "\n",
       "    .dataframe thead th {\n",
       "        text-align: right;\n",
       "    }\n",
       "</style>\n",
       "<table border=\"1\" class=\"dataframe\">\n",
       "  <thead>\n",
       "    <tr style=\"text-align: right;\">\n",
       "      <th></th>\n",
       "      <th>Title</th>\n",
       "      <th>Description</th>\n",
       "      <th>Category</th>\n",
       "      <th>stemmed_tokenize</th>\n",
       "    </tr>\n",
       "  </thead>\n",
       "  <tbody>\n",
       "    <tr>\n",
       "      <th>0</th>\n",
       "      <td>Swissmar Capstore Select Storage Rack for 18-...</td>\n",
       "      <td>Swissmar's capstore select 18 storage unit kee...</td>\n",
       "      <td>Home &amp; Kitchen Kitchen &amp; Dining Kitchen Utens...</td>\n",
       "      <td>swissmar capstor select storag rack for 18-pac...</td>\n",
       "    </tr>\n",
       "    <tr>\n",
       "      <th>1</th>\n",
       "      <td>Gemini200 Delta CV-880 Gold Crown Livery Airc...</td>\n",
       "      <td>Welcome to the exciting world of GeminiJets! O...</td>\n",
       "      <td>Toys &amp; Games Hobbies Models &amp; Model Kits Pre-...</td>\n",
       "      <td>gemini200 delta cv-880 gold crown liveri aircr...</td>\n",
       "    </tr>\n",
       "    <tr>\n",
       "      <th>2</th>\n",
       "      <td>Superior Threads 10501-2172 Magnifico Cream P...</td>\n",
       "      <td>For quilting and embroidery, this product is m...</td>\n",
       "      <td>Arts, Crafts &amp; Sewing Sewing Thread &amp; Floss S...</td>\n",
       "      <td>superior thread 10501-2172 magnifico cream puf...</td>\n",
       "    </tr>\n",
       "    <tr>\n",
       "      <th>3</th>\n",
       "      <td>Fashion Angels Color Rox Hair Chox Kit</td>\n",
       "      <td>Experiment with the haute trend of hair chalki...</td>\n",
       "      <td>Beauty &amp; Personal Care Hair Care Hair Colorin...</td>\n",
       "      <td>fashion angel color rox hair chox kit experi w...</td>\n",
       "    </tr>\n",
       "    <tr>\n",
       "      <th>4</th>\n",
       "      <td>Union Creative Giant Killing Figure 05: Daisu...</td>\n",
       "      <td>From Union Creative. Turn your display shelf i...</td>\n",
       "      <td>Toys &amp; Games › Action Figures &amp; Statues › Sta...</td>\n",
       "      <td>union creativ giant kill figur 05 : daisuk tsu...</td>\n",
       "    </tr>\n",
       "  </tbody>\n",
       "</table>\n",
       "</div>"
      ],
      "text/plain": [
       "                                               Title  \\\n",
       "0   Swissmar Capstore Select Storage Rack for 18-...   \n",
       "1   Gemini200 Delta CV-880 Gold Crown Livery Airc...   \n",
       "2   Superior Threads 10501-2172 Magnifico Cream P...   \n",
       "3            Fashion Angels Color Rox Hair Chox Kit    \n",
       "4   Union Creative Giant Killing Figure 05: Daisu...   \n",
       "\n",
       "                                         Description  \\\n",
       "0  Swissmar's capstore select 18 storage unit kee...   \n",
       "1  Welcome to the exciting world of GeminiJets! O...   \n",
       "2  For quilting and embroidery, this product is m...   \n",
       "3  Experiment with the haute trend of hair chalki...   \n",
       "4  From Union Creative. Turn your display shelf i...   \n",
       "\n",
       "                                            Category  \\\n",
       "0   Home & Kitchen Kitchen & Dining Kitchen Utens...   \n",
       "1   Toys & Games Hobbies Models & Model Kits Pre-...   \n",
       "2   Arts, Crafts & Sewing Sewing Thread & Floss S...   \n",
       "3   Beauty & Personal Care Hair Care Hair Colorin...   \n",
       "4   Toys & Games › Action Figures & Statues › Sta...   \n",
       "\n",
       "                                    stemmed_tokenize  \n",
       "0  swissmar capstor select storag rack for 18-pac...  \n",
       "1  gemini200 delta cv-880 gold crown liveri aircr...  \n",
       "2  superior thread 10501-2172 magnifico cream puf...  \n",
       "3  fashion angel color rox hair chox kit experi w...  \n",
       "4  union creativ giant kill figur 05 : daisuk tsu...  "
      ]
     },
     "execution_count": 11,
     "metadata": {},
     "output_type": "execute_result"
    }
   ],
   "source": [
    "df.head()"
   ]
  },
  {
   "cell_type": "code",
   "execution_count": 43,
   "id": "aa92f962",
   "metadata": {},
   "outputs": [],
   "source": [
    "from sklearn.feature_extraction.text import TfidfVectorizer\n",
    "tf = TfidfVectorizer(tokenizer=tokenize_stem)"
   ]
  },
  {
   "cell_type": "code",
   "execution_count": 72,
   "id": "734ff47b",
   "metadata": {},
   "outputs": [],
   "source": [
    "from sklearn.metrics.pairwise import cosine_similarity\n"
   ]
  },
  {
   "cell_type": "code",
   "execution_count": 73,
   "id": "20f173d6",
   "metadata": {},
   "outputs": [],
   "source": [
    "def cosine_sim(text1,text2):\n",
    "    matrix = tf.fit_transform([text1,text2])\n",
    "    return cosine_similarity(matrix)"
   ]
  },
  {
   "cell_type": "code",
   "execution_count": 104,
   "id": "2cd144d3",
   "metadata": {},
   "outputs": [],
   "source": [
    "def search_product(query):\n",
    "    stemmed_query = tokenize_stem(query)\n",
    "    df['similarity'] = df['stemmed_tokenize'].apply(lambda x:cosine_sim(stemmed_query,x)[0][1])\n",
    "    result = df.sort_values(by=['similarity'],ascending=False).head(10)\n",
    "    return result"
   ]
  },
  {
   "cell_type": "code",
   "execution_count": 105,
   "id": "af6b016c",
   "metadata": {},
   "outputs": [
    {
     "data": {
      "text/html": [
       "<div>\n",
       "<style scoped>\n",
       "    .dataframe tbody tr th:only-of-type {\n",
       "        vertical-align: middle;\n",
       "    }\n",
       "\n",
       "    .dataframe tbody tr th {\n",
       "        vertical-align: top;\n",
       "    }\n",
       "\n",
       "    .dataframe thead th {\n",
       "        text-align: right;\n",
       "    }\n",
       "</style>\n",
       "<table border=\"1\" class=\"dataframe\">\n",
       "  <thead>\n",
       "    <tr style=\"text-align: right;\">\n",
       "      <th></th>\n",
       "      <th>Title</th>\n",
       "      <th>Description</th>\n",
       "      <th>Category</th>\n",
       "      <th>stemmed_tokenize</th>\n",
       "      <th>similarity</th>\n",
       "    </tr>\n",
       "  </thead>\n",
       "  <tbody>\n",
       "    <tr>\n",
       "      <th>4</th>\n",
       "      <td>Union Creative Giant Killing Figure 05: Daisu...</td>\n",
       "      <td>From Union Creative. Turn your display shelf i...</td>\n",
       "      <td>Toys &amp; Games › Action Figures &amp; Statues › Sta...</td>\n",
       "      <td>union creativ giant kill figur 05 : daisuk tsu...</td>\n",
       "      <td>0.561034</td>\n",
       "    </tr>\n",
       "    <tr>\n",
       "      <th>539</th>\n",
       "      <td>Wwf Smack Down Series 7 Stephanie Mcmahon Hel...</td>\n",
       "      <td>Wwf Smack Down Series 7 Stephanie Mcmahon Helm...</td>\n",
       "      <td>Toys &amp; Games Action Figures &amp; Statues Action ...</td>\n",
       "      <td>wwf smack down seri 7 stephani mcmahon helmsle...</td>\n",
       "      <td>0.104552</td>\n",
       "    </tr>\n",
       "    <tr>\n",
       "      <th>71</th>\n",
       "      <td>Heimess Clip Figure Bear Baby Toy</td>\n",
       "      <td>The clip figure, your sweetheart does not get ...</td>\n",
       "      <td>Toys &amp; Games Baby &amp; Toddler Toys</td>\n",
       "      <td>heimess clip figur bear babi toy the clip figu...</td>\n",
       "      <td>0.089895</td>\n",
       "    </tr>\n",
       "    <tr>\n",
       "      <th>202</th>\n",
       "      <td>Bandai Hobby Figure-Rise Standard Strike Inte...</td>\n",
       "      <td>A new breed of action figure model kit that bl...</td>\n",
       "      <td>Toys &amp; Games Hobbies Models &amp; Model Kits Mode...</td>\n",
       "      <td>bandai hobbi figure-ris standard strike interc...</td>\n",
       "      <td>0.087101</td>\n",
       "    </tr>\n",
       "    <tr>\n",
       "      <th>216</th>\n",
       "      <td>Teen Titans Go! 5\" Raven Figure</td>\n",
       "      <td>Bring home Teen Titans Go!'s Raven! This actio...</td>\n",
       "      <td>Toys &amp; Games Action Figures &amp; Statues Action ...</td>\n",
       "      <td>teen titan go ! 5 '' raven figur bring home te...</td>\n",
       "      <td>0.075055</td>\n",
       "    </tr>\n",
       "    <tr>\n",
       "      <th>543</th>\n",
       "      <td>Riley &amp; Company Funny Bones Cling Mounted Sta...</td>\n",
       "      <td>RILEY &amp; COMPANY-Funny Bones Stamp. Bring some ...</td>\n",
       "      <td>Arts, Crafts &amp; Sewing › Scrapbooking &amp; Stampi...</td>\n",
       "      <td>riley &amp; compani funni bone cling mount stamp ,...</td>\n",
       "      <td>0.069042</td>\n",
       "    </tr>\n",
       "    <tr>\n",
       "      <th>435</th>\n",
       "      <td>Vickerman Wreath with 180 PVC tips &amp; 50 Dura-...</td>\n",
       "      <td>24\" Purple wreath featuring 180 PVC tips and 5...</td>\n",
       "      <td>Home &amp; Kitchen › Seasonal Décor › Wreaths, Ga...</td>\n",
       "      <td>vickerman wreath with 180 pvc tip &amp; 50 dura-li...</td>\n",
       "      <td>0.063590</td>\n",
       "    </tr>\n",
       "    <tr>\n",
       "      <th>45</th>\n",
       "      <td>Promise External Mini-Sas To Infinband 4X cab...</td>\n",
       "      <td>x10 Series Cable: External Mini-SAS (SFF 8088)...</td>\n",
       "      <td>Electronics › Computers &amp; Accessories › Compu...</td>\n",
       "      <td>promis extern mini-sa to infinband 4x cabl , 1...</td>\n",
       "      <td>0.051401</td>\n",
       "    </tr>\n",
       "    <tr>\n",
       "      <th>410</th>\n",
       "      <td>Maglite Replacement Lamps for 2-Cell AA Mini ...</td>\n",
       "      <td>Maglite Replacement Lamps for 2-Cell AA Mini F...</td>\n",
       "      <td>Tools &amp; Home Improvement › Light Bulbs › Halo...</td>\n",
       "      <td>maglit replac lamp for 2-cell aa mini flashlig...</td>\n",
       "      <td>0.049083</td>\n",
       "    </tr>\n",
       "    <tr>\n",
       "      <th>277</th>\n",
       "      <td>GGMM Snap - M Polycarbonate Case for iPad Min...</td>\n",
       "      <td>Perfect fitment with a comprehensive protectio...</td>\n",
       "      <td>Electronics Computers &amp; Accessories Tablet Ac...</td>\n",
       "      <td>ggmm snap - m polycarbon case for ipad mini - ...</td>\n",
       "      <td>0.046429</td>\n",
       "    </tr>\n",
       "  </tbody>\n",
       "</table>\n",
       "</div>"
      ],
      "text/plain": [
       "                                                 Title  \\\n",
       "4     Union Creative Giant Killing Figure 05: Daisu...   \n",
       "539   Wwf Smack Down Series 7 Stephanie Mcmahon Hel...   \n",
       "71                  Heimess Clip Figure Bear Baby Toy    \n",
       "202   Bandai Hobby Figure-Rise Standard Strike Inte...   \n",
       "216                   Teen Titans Go! 5\" Raven Figure    \n",
       "543   Riley & Company Funny Bones Cling Mounted Sta...   \n",
       "435   Vickerman Wreath with 180 PVC tips & 50 Dura-...   \n",
       "45    Promise External Mini-Sas To Infinband 4X cab...   \n",
       "410   Maglite Replacement Lamps for 2-Cell AA Mini ...   \n",
       "277   GGMM Snap - M Polycarbonate Case for iPad Min...   \n",
       "\n",
       "                                           Description  \\\n",
       "4    From Union Creative. Turn your display shelf i...   \n",
       "539  Wwf Smack Down Series 7 Stephanie Mcmahon Helm...   \n",
       "71   The clip figure, your sweetheart does not get ...   \n",
       "202  A new breed of action figure model kit that bl...   \n",
       "216  Bring home Teen Titans Go!'s Raven! This actio...   \n",
       "543  RILEY & COMPANY-Funny Bones Stamp. Bring some ...   \n",
       "435  24\" Purple wreath featuring 180 PVC tips and 5...   \n",
       "45   x10 Series Cable: External Mini-SAS (SFF 8088)...   \n",
       "410  Maglite Replacement Lamps for 2-Cell AA Mini F...   \n",
       "277  Perfect fitment with a comprehensive protectio...   \n",
       "\n",
       "                                              Category  \\\n",
       "4     Toys & Games › Action Figures & Statues › Sta...   \n",
       "539   Toys & Games Action Figures & Statues Action ...   \n",
       "71                   Toys & Games Baby & Toddler Toys    \n",
       "202   Toys & Games Hobbies Models & Model Kits Mode...   \n",
       "216   Toys & Games Action Figures & Statues Action ...   \n",
       "543   Arts, Crafts & Sewing › Scrapbooking & Stampi...   \n",
       "435   Home & Kitchen › Seasonal Décor › Wreaths, Ga...   \n",
       "45    Electronics › Computers & Accessories › Compu...   \n",
       "410   Tools & Home Improvement › Light Bulbs › Halo...   \n",
       "277   Electronics Computers & Accessories Tablet Ac...   \n",
       "\n",
       "                                      stemmed_tokenize  similarity  \n",
       "4    union creativ giant kill figur 05 : daisuk tsu...    0.561034  \n",
       "539  wwf smack down seri 7 stephani mcmahon helmsle...    0.104552  \n",
       "71   heimess clip figur bear babi toy the clip figu...    0.089895  \n",
       "202  bandai hobbi figure-ris standard strike interc...    0.087101  \n",
       "216  teen titan go ! 5 '' raven figur bring home te...    0.075055  \n",
       "543  riley & compani funni bone cling mount stamp ,...    0.069042  \n",
       "435  vickerman wreath with 180 pvc tip & 50 dura-li...    0.063590  \n",
       "45   promis extern mini-sa to infinband 4x cabl , 1...    0.051401  \n",
       "410  maglit replac lamp for 2-cell aa mini flashlig...    0.049083  \n",
       "277  ggmm snap - m polycarbon case for ipad mini - ...    0.046429  "
      ]
     },
     "execution_count": 105,
     "metadata": {},
     "output_type": "execute_result"
    }
   ],
   "source": [
    "search_product(' Union Creative Giant Killing Figure 05: Daisuke Tsubaki PVC Mini Figure ')"
   ]
  },
  {
   "cell_type": "code",
   "execution_count": 102,
   "id": "2649cce6",
   "metadata": {},
   "outputs": [
    {
     "data": {
      "text/plain": [
       "' Union Creative Giant Killing Figure 05: Daisuke Tsubaki PVC Mini Figure '"
      ]
     },
     "execution_count": 102,
     "metadata": {},
     "output_type": "execute_result"
    }
   ],
   "source": [
    "df['Title'][4]"
   ]
  },
  {
   "cell_type": "code",
   "execution_count": 95,
   "id": "ada127ea",
   "metadata": {},
   "outputs": [],
   "source": [
    "\n"
   ]
  },
  {
   "cell_type": "code",
   "execution_count": null,
   "id": "0dca3257",
   "metadata": {},
   "outputs": [],
   "source": []
  },
  {
   "cell_type": "code",
   "execution_count": 101,
   "id": "5356367a",
   "metadata": {},
   "outputs": [],
   "source": [
    "\n"
   ]
  },
  {
   "cell_type": "code",
   "execution_count": null,
   "id": "6d2c7e52",
   "metadata": {},
   "outputs": [],
   "source": []
  },
  {
   "cell_type": "code",
   "execution_count": null,
   "id": "06eb6101",
   "metadata": {},
   "outputs": [],
   "source": []
  }
 ],
 "metadata": {
  "kernelspec": {
   "display_name": "Python 3 (ipykernel)",
   "language": "python",
   "name": "python3"
  },
  "language_info": {
   "codemirror_mode": {
    "name": "ipython",
    "version": 3
   },
   "file_extension": ".py",
   "mimetype": "text/x-python",
   "name": "python",
   "nbconvert_exporter": "python",
   "pygments_lexer": "ipython3",
   "version": "3.9.13"
  }
 },
 "nbformat": 4,
 "nbformat_minor": 5
}
